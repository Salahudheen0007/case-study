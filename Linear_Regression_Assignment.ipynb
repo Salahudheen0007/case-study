{
 "cells": [
  {
   "cell_type": "markdown",
   "id": "ff58753a",
   "metadata": {},
   "source": [
    "# 📓 Linear Regression from Scratch\n",
    "\n",
    "### 🎯 Objective\n",
    "- Implement a linear regression model using gradient descent. \n",
    "- Derive the gradient updates, write a scikit-learn-like class, and evaluate using synthetic data.\n",
    "- Compare the result of the same with library code output\n",
    "- Use R2-Score and Mean Absolute Percentage error as Performance metric on test data"
   ]
  },
  {
   "cell_type": "markdown",
   "id": "7b08dfe6",
   "metadata": {},
   "source": [
    "## 📊 Generate Synthetic Data"
   ]
  },
  {
   "cell_type": "code",
   "execution_count": null,
   "id": "08e7bb0c",
   "metadata": {},
   "outputs": [
    {
     "data": {
      "image/png": "[encoded data removed]",
      "text/plain": [
       "<Figure size 640x480 with 1 Axes>"
      ]
     },
     "metadata": {},
     "output_type": "display_data"
    },
    {
     "data": {
      "text/plain": [
       "array([[ 6.33428778],\n",
       "       [ 9.40527849],\n",
       "       [ 8.48372443],\n",
       "       [ 5.60438199],\n",
       "       [ 4.71643995],\n",
       "       [ 5.29307969],\n",
       "       [ 5.82639572],\n",
       "       [ 8.67878666],\n",
       "       [ 6.79819647],\n",
       "       [ 7.74667842],\n",
       "       [ 5.03890908],\n",
       "       [10.14821022],\n",
       "       [ 8.46489564],\n",
       "       [ 5.7873021 ],\n",
       "       [ 5.18802735],\n",
       "       [ 6.06907205],\n",
       "       [ 5.12340036],\n",
       "       [ 6.82087644],\n",
       "       [ 6.19956196],\n",
       "       [ 4.28385989],\n",
       "       [ 7.96723765],\n",
       "       [ 5.09801844],\n",
       "       [ 5.75798135],\n",
       "       [ 5.96358393],\n",
       "       [ 5.32104916],\n",
       "       [ 8.29041045],\n",
       "       [ 4.85532818],\n",
       "       [ 6.28312936],\n",
       "       [ 7.3932017 ],\n",
       "       [ 4.68275333],\n",
       "       [ 9.53145501],\n",
       "       [ 5.19772255],\n",
       "       [ 4.64785995],\n",
       "       [ 9.61886731],\n",
       "       [ 7.87502098],\n",
       "       [ 8.82387021],\n",
       "       [ 5.88791282],\n",
       "       [ 7.0492748 ],\n",
       "       [ 7.91303719],\n",
       "       [ 6.9424623 ],\n",
       "       [ 4.69751764],\n",
       "       [ 5.80238342],\n",
       "       [ 5.34915394],\n",
       "       [10.20785545],\n",
       "       [ 6.34371184],\n",
       "       [ 7.06574625],\n",
       "       [ 7.27306077],\n",
       "       [ 5.71855706],\n",
       "       [ 7.86711877],\n",
       "       [ 7.29958236],\n",
       "       [ 8.82697144],\n",
       "       [ 8.08449921],\n",
       "       [ 9.73664501],\n",
       "       [ 8.86548845],\n",
       "       [ 6.03673644],\n",
       "       [ 9.59980838],\n",
       "       [ 3.4686513 ],\n",
       "       [ 5.64948961],\n",
       "       [ 3.3519395 ],\n",
       "       [ 7.50191639],\n",
       "       [ 5.54881045],\n",
       "       [ 5.30603267],\n",
       "       [ 9.78594227],\n",
       "       [ 4.90965564],\n",
       "       [ 5.91306699],\n",
       "       [ 8.56331925],\n",
       "       [ 3.23806212],\n",
       "       [ 8.99781574],\n",
       "       [ 4.70718666],\n",
       "       [10.70314449],\n",
       "       [ 7.3965179 ],\n",
       "       [ 3.87183748],\n",
       "       [ 4.55507427],\n",
       "       [ 9.18975324],\n",
       "       [ 8.49163691],\n",
       "       [ 8.72049122],\n",
       "       [ 7.94759736],\n",
       "       [ 4.67652161],\n",
       "       [ 6.44386684],\n",
       "       [ 3.98086294],\n",
       "       [11.04439507],\n",
       "       [ 8.21362168],\n",
       "       [ 4.79408465],\n",
       "       [ 5.03790371],\n",
       "       [ 4.89121226],\n",
       "       [ 6.73818454],\n",
       "       [ 9.53623265],\n",
       "       [ 7.00466251],\n",
       "       [10.28665258],\n",
       "       [ 7.24607048],\n",
       "       [ 5.53962564],\n",
       "       [10.17626171],\n",
       "       [ 8.31932218],\n",
       "       [ 6.61392702],\n",
       "       [ 7.73628865],\n",
       "       [ 6.14696329],\n",
       "       [ 7.05929527],\n",
       "       [ 6.90639808],\n",
       "       [ 4.42920556],\n",
       "       [ 5.47453181]])"
      ]
     },
     "execution_count": 2,
     "metadata": {},
     "output_type": "execute_result"
    }
   ],
   "source": [
    "\n",
    "import numpy as np\n",
    "import matplotlib.pyplot as plt\n",
    "\n",
    "# Set seed for reproducibility\n",
    "np.random.seed(42)\n",
    "\n",
    "# Generate synthetic data\n",
    "X = 2 * np.random.rand(100, 1)\n",
    "y = 4 + 3 * X + np.random.randn(100, 1)\n",
    "\n",
    "# Plot\n",
    "plt.scatter(X, y)\n",
    "plt.xlabel(\"X\")\n",
    "plt.ylabel(\"y\")\n",
    "plt.title(\"Synthetic Data\")\n",
    "plt.show()\n",
    "\n"
   ]
  },
  {
   "cell_type": "markdown",
   "id": "a1353713",
   "metadata": {},
   "source": [
    "## Do Train-Test Split (75%-25%)"
   ]
  },
  {
   "cell_type": "code",
   "execution_count": 30,
   "id": "63c6d725",
   "metadata": {},
   "outputs": [],
   "source": [
    "from sklearn.model_selection import train_test_split\n",
    "X_train,X_test,y_train,y_test = train_test_split(X,y,test_size=0.25)\n",
    "\n",
    "\n",
    "\n"
   ]
  },
  {
   "cell_type": "markdown",
   "id": "7a4bd95d",
   "metadata": {},
   "source": [
    "## Do the Linear Regression with Scikit-Learn Library"
   ]
  },
  {
   "cell_type": "code",
   "execution_count": 54,
   "id": "0e787214",
   "metadata": {},
   "outputs": [
    {
     "data": {
      "text/html": [
       "<div>\n",
       "<style scoped>\n",
       "    .dataframe tbody tr th:only-of-type {\n",
       "        vertical-align: middle;\n",
       "    }\n",
       "\n",
       "    .dataframe tbody tr th {\n",
       "        vertical-align: top;\n",
       "    }\n",
       "\n",
       "    .dataframe thead th {\n",
       "        text-align: right;\n",
       "    }\n",
       "</style>\n",
       "<table border=\"1\" class=\"dataframe\">\n",
       "  <thead>\n",
       "    <tr style=\"text-align: right;\">\n",
       "      <th></th>\n",
       "      <th>model</th>\n",
       "      <th>MAPE</th>\n",
       "      <th>R2_score</th>\n",
       "    </tr>\n",
       "  </thead>\n",
       "  <tbody>\n",
       "    <tr>\n",
       "      <th>0</th>\n",
       "      <td>linear regression</td>\n",
       "      <td>0.139248</td>\n",
       "      <td>0.694651</td>\n",
       "    </tr>\n",
       "  </tbody>\n",
       "</table>\n",
       "</div>"
      ],
      "text/plain": [
       "               model      MAPE  R2_score\n",
       "0  linear regression  0.139248  0.694651"
      ]
     },
     "execution_count": 54,
     "metadata": {},
     "output_type": "execute_result"
    }
   ],
   "source": [
    "from sklearn.linear_model import LinearRegression\n",
    "from sklearn.metrics import r2_score,mean_absolute_percentage_error\n",
    "import pandas as pd\n",
    "import numpy as np\n",
    "\n",
    "lr = LinearRegression()\n",
    "\n",
    "lr.fit(X_train,y_train)\n",
    "y_pred = lr.predict(X_test)\n",
    "y_pred\n",
    "\n",
    "\n",
    "R2_1 = r2_score(y_pred,y_test)\n",
    "R2_1\n",
    "MAPE_1 = mean_absolute_percentage_error(y_pred,y_test)\n",
    "MAPE_1\n",
    "result_df = pd.DataFrame(columns=['model','MAPE','R2_score'])\n",
    "result_df.loc[len(result_df)] = ['linear regression',MAPE_1,R2_1]\n",
    "result_df"
   ]
  },
  {
   "cell_type": "markdown",
   "id": "2dd80e4c",
   "metadata": {},
   "source": [
    "## Do Ridge and Lasso Regression and Compare the evaluation metrics in a table"
   ]
  },
  {
   "cell_type": "code",
   "execution_count": 43,
   "id": "ad1313e6",
   "metadata": {},
   "outputs": [
    {
     "data": {
      "text/plain": [
       "array([[ 8.48372443],\n",
       "       [ 9.73664501],\n",
       "       [ 7.06574625],\n",
       "       [ 5.03890908],\n",
       "       [ 7.86711877],\n",
       "       [ 8.72049122],\n",
       "       [ 8.99781574],\n",
       "       [ 6.44386684],\n",
       "       [ 9.53623265],\n",
       "       [ 5.80238342],\n",
       "       [ 4.28385989],\n",
       "       [ 4.85532818],\n",
       "       [ 5.91306699],\n",
       "       [ 6.28312936],\n",
       "       [ 9.40527849],\n",
       "       [ 5.34915394],\n",
       "       [ 5.96358393],\n",
       "       [ 8.56331925],\n",
       "       [ 5.60438199],\n",
       "       [ 6.34371184],\n",
       "       [ 8.31932218],\n",
       "       [11.04439507],\n",
       "       [ 5.19772255],\n",
       "       [ 6.14696329],\n",
       "       [10.70314449],\n",
       "       [ 9.53145501],\n",
       "       [ 8.08449921],\n",
       "       [ 4.79408465],\n",
       "       [ 9.18975324],\n",
       "       [ 4.71643995],\n",
       "       [ 8.86548845],\n",
       "       [ 7.74667842],\n",
       "       [10.28665258],\n",
       "       [ 5.88791282],\n",
       "       [ 5.47453181],\n",
       "       [ 4.64785995],\n",
       "       [ 8.82387021],\n",
       "       [ 7.91303719],\n",
       "       [ 7.96723765],\n",
       "       [ 8.21362168],\n",
       "       [ 3.87183748],\n",
       "       [ 5.53962564],\n",
       "       [ 7.27306077],\n",
       "       [ 7.3932017 ],\n",
       "       [ 3.4686513 ],\n",
       "       [ 8.82697144],\n",
       "       [ 3.98086294],\n",
       "       [ 8.29041045],\n",
       "       [ 3.23806212],\n",
       "       [ 5.09801844],\n",
       "       [ 4.70718666],\n",
       "       [ 7.05929527],\n",
       "       [ 4.90965564],\n",
       "       [ 5.54881045],\n",
       "       [ 6.06907205],\n",
       "       [ 5.03790371],\n",
       "       [ 5.71855706],\n",
       "       [ 9.61886731],\n",
       "       [ 6.73818454],\n",
       "       [ 6.61392702],\n",
       "       [ 6.33428778],\n",
       "       [10.14821022],\n",
       "       [ 6.79819647],\n",
       "       [ 5.75798135],\n",
       "       [ 5.30603267],\n",
       "       [ 7.73628865],\n",
       "       [ 7.24607048],\n",
       "       [ 6.03673644],\n",
       "       [ 5.64948961],\n",
       "       [10.17626171],\n",
       "       [ 4.42920556],\n",
       "       [ 9.78594227],\n",
       "       [ 5.12340036],\n",
       "       [ 6.19956196],\n",
       "       [ 4.68275333]])"
      ]
     },
     "execution_count": 43,
     "metadata": {},
     "output_type": "execute_result"
    }
   ],
   "source": [
    "from sklearn.linear_model import Ridge,Lasso\n",
    "\n",
    "\n",
    "r = Ridge()\n",
    "r.fit(X_train,y_train)\n",
    "y_pred1 = r.predict(X_test)\n",
    "y_pred1\n",
    "\n",
    "MAPE_2 = mean_absolute_percentage_error(y_pred1,y_test)\n",
    "R2_2 = r2_score(y_pred1,y_test)\n",
    "\n",
    "l  = Lasso()\n",
    "l.fit(X_train,y_train)\n",
    "y_pred2 = l.predict(X_test)\n",
    "y_pred2\n",
    "\n",
    "MAPE_3 = mean_absolute_percentage_error(y_pred2,y_test)\n",
    "R2_3 = r2_score(y_pred2,y_test)\n",
    "\n",
    "result_df.loc[len(result_df)] = ['Ridge regression',MAPE_2,R2_2]\n",
    "result_df.loc[len(result_df)] = ['Lasso regression',MAPE_3,R2_3]\n",
    "result_df\n",
    "\n",
    "X_train\n",
    "y_train"
   ]
  },
  {
   "cell_type": "markdown",
   "id": "90959c9a",
   "metadata": {},
   "source": [
    "## Custom Implementation"
   ]
  },
  {
   "cell_type": "markdown",
   "id": "336101a1",
   "metadata": {},
   "source": [
    "## 🧮 Derive the Gradient Updates\n",
    "Use the chain rule to derive the gradients of the loss function (Mean Square Error):\n",
    "\n",
    "$$ \\text{Loss} = \\frac{1}{N} \\sum_{i=1}^{N} (y_i - (mx_i + c))^2 $$\n",
    "\n",
    "Derive:\n",
    "- ∂Loss/∂m\n",
    "- ∂Loss/∂c\n",
    "\n",
    "Write the derivation here/add screenshot of your derivation here:\n",
    "![Gradient Derivation](derivation.jpg)\n",
    "\n",
    "\n"
   ]
  },
  {
   "cell_type": "markdown",
   "id": "b42d4781",
   "metadata": {},
   "source": [
    "## 🧠 Custom Linear Regression Class"
   ]
  },
  {
   "cell_type": "code",
   "execution_count": 55,
   "id": "be0945ca",
   "metadata": {},
   "outputs": [],
   "source": [
    "\n",
    "class MyLinearRegression:\n",
    "    def __init__(self):\n",
    "        self.m = 0\n",
    "        self.c = 0\n",
    "        self.coef_ = (self.m,self.c)\n",
    "        self.loss_curve = []\n",
    "\n",
    "    def fit(self, X, y, lr = 0.01, n_iters = 1000):\n",
    "        n = len(X)\n",
    "        X = X.reshape(-1)\n",
    "        y = y.reshape(-1)\n",
    "\n",
    "        for _ in range(n_iters):\n",
    "            y_pred = self.m*X + self.c\n",
    "            error = y-y_pred\n",
    "\n",
    "            loss = (1/n) * np.sum(error**2)\n",
    "            self.loss_curve.append(loss)\n",
    "\n",
    "            dm = (-2/n)*np.dot(X,(error))\n",
    "            dc = (-2/n)*sum(error)\n",
    "\n",
    "            self.m -= lr*dm\n",
    "            self.c -= lr*dc\n",
    "\n",
    "        self.coef_ = (self.m,self.c)\n",
    "\n",
    "\n",
    "    def predict(self, X):\n",
    "        X = X.reshape(-1)\n",
    "        return self.m*X + self.c\n",
    "\n",
    "    def fit_transform(self, X, y, lr=0.01, n_iters=1000):\n",
    "        self.fit(X, y, lr, n_iters)\n",
    "        return self.predict(X)\n"
   ]
  },
  {
   "cell_type": "markdown",
   "id": "b7c59cd7",
   "metadata": {},
   "source": [
    "## 🔁 Train the Model and Visualize the Fit"
   ]
  },
  {
   "cell_type": "code",
   "execution_count": 56,
   "id": "4c91abaf",
   "metadata": {},
   "outputs": [
    {
     "data": {
      "image/png": "[encoded data removed]",
      "text/plain": [
       "<Figure size 640x480 with 1 Axes>"
      ]
     },
     "metadata": {},
     "output_type": "display_data"
    },
    {
     "name": "stdout",
     "output_type": "stream",
     "text": [
      "Learned coefficients (m, c): (np.float64(3.033268870750776), np.float64(3.938583976518225))\n"
     ]
    }
   ],
   "source": [
    "\n",
    "model = MyLinearRegression()\n",
    "model.fit(X_train, y_train, lr=0.1, n_iters=100)\n",
    "\n",
    "# Predictions\n",
    "y_pred_cust = model.predict(X_test)\n",
    "\n",
    "# Plot\n",
    "plt.scatter(X_test, y_test, label=\"Data\")\n",
    "plt.plot(X_test, y_pred, color=\"red\", label=\"Model\")\n",
    "plt.legend()\n",
    "plt.title(\"Linear Regression Fit\")\n",
    "plt.show()\n",
    "\n",
    "# Print coefficients\n",
    "print(\"Learned coefficients (m, c):\", model.coef_)\n"
   ]
  },
  {
   "cell_type": "markdown",
   "id": "7d0ef2cd",
   "metadata": {},
   "source": [
    "## 📉 Plot the Loss Curve"
   ]
  },
  {
   "cell_type": "code",
   "execution_count": 71,
   "id": "cb5c189f",
   "metadata": {},
   "outputs": [
    {
     "data": {
      "image/png": "[encoded data removed]",
      "text/plain": [
       "<Figure size 640x480 with 1 Axes>"
      ]
     },
     "metadata": {},
     "output_type": "display_data"
    }
   ],
   "source": [
    "plt.plot(model.loss_curve)\n",
    "plt.title(\"Loss Curve\")\n",
    "plt.xlabel(\"Iterations\")\n",
    "plt.ylabel(\"MSE Loss\")\n",
    "plt.grid(True)\n",
    "plt.show()\n"
   ]
  },
  {
   "cell_type": "markdown",
   "id": "9ac04f98",
   "metadata": {},
   "source": [
    "## 🌟 Bonus Task: Stochastic Gradient Descent\n",
    "Implement a class `MyLinearRegressionSGD` that uses one training sample per iteration to update weights."
   ]
  },
  {
   "cell_type": "code",
   "execution_count": 73,
   "id": "2bb1cac7",
   "metadata": {},
   "outputs": [],
   "source": [
    "\n",
    "class MyLinearRegressionSGD:\n",
    "    def __init__(self):\n",
    "        self.m = 0\n",
    "        self.c = 0\n",
    "        self.coef_ = (self.m,self.c)\n",
    "        self.loss_curve = []\n",
    "\n",
    "    def fit(self, X, y, lr = 0.01, n_iters = 100):\n",
    "        n = len(X)\n",
    "        X = X.reshape(-1)\n",
    "        y = y.reshape(-1)\n",
    "\n",
    "        for _ in range(n_iters):\n",
    "            for i in range(n):\n",
    "                xi = X[i]\n",
    "                yi = y[i]\n",
    "                y_pred = self.m*xi + self.c\n",
    "                error = yi-y_pred\n",
    "\n",
    "                dm = -2 *xi*error\n",
    "                dc = -2*error\n",
    "\n",
    "                self.m -= lr*dm\n",
    "                self.c -= lr*dc\n",
    "            y_pred_all  = self.m*X + self.c\n",
    "            epoch_loss = (1/n) * np.sum((y-y_pred_all)**2)\n",
    "            self.loss_curve.append(epoch_loss)\n",
    "        self.coef_ = (self.m,self.c)\n",
    "\n",
    "\n",
    "    def predict(self, X):\n",
    "        X = X.reshape(-1)\n",
    "        return self.m*X + self.c\n",
    "\n",
    "    def fit_transform(self, X, y, lr=0.01, n_iters=1000):\n",
    "        self.fit(X, y, lr, n_iters)\n",
    "        return self.predict(X)\n"
   ]
  },
  {
   "cell_type": "code",
   "execution_count": 77,
   "id": "6edfaa39",
   "metadata": {},
   "outputs": [
    {
     "data": {
      "image/png": "[encoded data removed]",
      "text/plain": [
       "<Figure size 640x480 with 1 Axes>"
      ]
     },
     "metadata": {},
     "output_type": "display_data"
    }
   ],
   "source": [
    "model_sgd = MyLinearRegressionSGD()\n",
    "model_sgd.fit(X_train,y_train,lr = 0.01,n_iters=100)\n",
    "pred = model_sgd.predict(X_test)\n",
    "plt.plot(model_sgd.loss_curve)\n",
    "plt.title(\"loss curve (SGD)\")\n",
    "plt.xlabel(\"Epochs\")\n",
    "plt.ylabel(\"mse loss\")\n",
    "plt.show()"
   ]
  },
  {
   "cell_type": "markdown",
   "id": "5136f0a7",
   "metadata": {},
   "source": [
    "## Visualize the prediction result of Library version and Custom regression code created"
   ]
  },
  {
   "cell_type": "code",
   "execution_count": 72,
   "id": "f19f5af6",
   "metadata": {},
   "outputs": [
    {
     "data": {
      "image/png": "[encoded data removed]",
      "text/plain": [
       "<Figure size 640x480 with 1 Axes>"
      ]
     },
     "metadata": {},
     "output_type": "display_data"
    },
    {
     "data": {
      "text/html": [
       "<div>\n",
       "<style scoped>\n",
       "    .dataframe tbody tr th:only-of-type {\n",
       "        vertical-align: middle;\n",
       "    }\n",
       "\n",
       "    .dataframe tbody tr th {\n",
       "        vertical-align: top;\n",
       "    }\n",
       "\n",
       "    .dataframe thead th {\n",
       "        text-align: right;\n",
       "    }\n",
       "</style>\n",
       "<table border=\"1\" class=\"dataframe\">\n",
       "  <thead>\n",
       "    <tr style=\"text-align: right;\">\n",
       "      <th></th>\n",
       "      <th>0</th>\n",
       "    </tr>\n",
       "  </thead>\n",
       "  <tbody>\n",
       "    <tr>\n",
       "      <th>7.122039</th>\n",
       "      <td>7.124467</td>\n",
       "    </tr>\n",
       "    <tr>\n",
       "      <th>8.226761</th>\n",
       "      <td>8.219424</td>\n",
       "    </tr>\n",
       "    <tr>\n",
       "      <th>9.455011</th>\n",
       "      <td>9.436817</td>\n",
       "    </tr>\n",
       "    <tr>\n",
       "      <th>7.806350</th>\n",
       "      <td>7.802730</td>\n",
       "    </tr>\n",
       "    <tr>\n",
       "      <th>4.884931</th>\n",
       "      <td>4.907133</td>\n",
       "    </tr>\n",
       "    <tr>\n",
       "      <th>4.387779</th>\n",
       "      <td>4.414375</td>\n",
       "    </tr>\n",
       "    <tr>\n",
       "      <th>5.041632</th>\n",
       "      <td>5.062449</td>\n",
       "    </tr>\n",
       "    <tr>\n",
       "      <th>8.617525</th>\n",
       "      <td>8.606734</td>\n",
       "    </tr>\n",
       "    <tr>\n",
       "      <th>5.825170</th>\n",
       "      <td>5.839061</td>\n",
       "    </tr>\n",
       "    <tr>\n",
       "      <th>9.796627</th>\n",
       "      <td>9.775414</td>\n",
       "    </tr>\n",
       "    <tr>\n",
       "      <th>4.290950</th>\n",
       "      <td>4.318403</td>\n",
       "    </tr>\n",
       "    <tr>\n",
       "      <th>6.532278</th>\n",
       "      <td>6.539919</td>\n",
       "    </tr>\n",
       "    <tr>\n",
       "      <th>4.678934</th>\n",
       "      <td>4.702956</td>\n",
       "    </tr>\n",
       "    <tr>\n",
       "      <th>3.972084</th>\n",
       "      <td>4.002355</td>\n",
       "    </tr>\n",
       "    <tr>\n",
       "      <th>5.912213</th>\n",
       "      <td>5.925334</td>\n",
       "    </tr>\n",
       "    <tr>\n",
       "      <th>6.608786</th>\n",
       "      <td>6.615750</td>\n",
       "    </tr>\n",
       "    <tr>\n",
       "      <th>5.226747</th>\n",
       "      <td>5.245928</td>\n",
       "    </tr>\n",
       "    <tr>\n",
       "      <th>9.531169</th>\n",
       "      <td>9.512302</td>\n",
       "    </tr>\n",
       "    <tr>\n",
       "      <th>8.988629</th>\n",
       "      <td>8.974558</td>\n",
       "    </tr>\n",
       "    <tr>\n",
       "      <th>4.212957</th>\n",
       "      <td>4.241099</td>\n",
       "    </tr>\n",
       "    <tr>\n",
       "      <th>8.623436</th>\n",
       "      <td>8.612593</td>\n",
       "    </tr>\n",
       "    <tr>\n",
       "      <th>5.060011</th>\n",
       "      <td>5.080665</td>\n",
       "    </tr>\n",
       "    <tr>\n",
       "      <th>9.193274</th>\n",
       "      <td>9.177394</td>\n",
       "    </tr>\n",
       "    <tr>\n",
       "      <th>6.705350</th>\n",
       "      <td>6.711461</td>\n",
       "    </tr>\n",
       "    <tr>\n",
       "      <th>4.531116</th>\n",
       "      <td>4.556445</td>\n",
       "    </tr>\n",
       "  </tbody>\n",
       "</table>\n",
       "</div>"
      ],
      "text/plain": [
       "                 0\n",
       "7.122039  7.124467\n",
       "8.226761  8.219424\n",
       "9.455011  9.436817\n",
       "7.806350  7.802730\n",
       "4.884931  4.907133\n",
       "4.387779  4.414375\n",
       "5.041632  5.062449\n",
       "8.617525  8.606734\n",
       "5.825170  5.839061\n",
       "9.796627  9.775414\n",
       "4.290950  4.318403\n",
       "6.532278  6.539919\n",
       "4.678934  4.702956\n",
       "3.972084  4.002355\n",
       "5.912213  5.925334\n",
       "6.608786  6.615750\n",
       "5.226747  5.245928\n",
       "9.531169  9.512302\n",
       "8.988629  8.974558\n",
       "4.212957  4.241099\n",
       "8.623436  8.612593\n",
       "5.060011  5.080665\n",
       "9.193274  9.177394\n",
       "6.705350  6.711461\n",
       "4.531116  4.556445"
      ]
     },
     "execution_count": 72,
     "metadata": {},
     "output_type": "execute_result"
    }
   ],
   "source": [
    "plt.Figure(figsize=(10,6))\n",
    "plt.scatter(X_test,y_test,label = \"data\")\n",
    "plt.plot(X_test,y_pred,label = 'sklearn library prediction',color = \"green\")\n",
    "plt.plot(X_test,y_pred_cust,color = \"red\",linestyle = '--',label = \"Custom prediction\")\n",
    "plt.xlabel(\"X\")\n",
    "plt.ylabel(\"y\")\n",
    "plt.title(\"sklearn vs custom linear regression\")\n",
    "plt.legend()\n",
    "plt.grid(True)\n",
    "plt.show()\n",
    "df = pd.DataFrame(y_pred,y_pred_cust)\n",
    "df"
   ]
  },
  {
   "cell_type": "markdown",
   "id": "60b3545d",
   "metadata": {},
   "source": [
    "## ✅ Checklist\n",
    "- [ ] Did linear regression using scikit-learn API\n",
    "- [ ] Did Ridge and Lasso regression and compiled the result (R2 and MAPE) as a table\n",
    "- [ ] Derived gradients using chain rule\n",
    "- [ ] Implemented custom Linear Regression class\n",
    "- [ ] Trained using gradient descent\n",
    "- [ ] Visualized predictions and loss\n",
    "- [ ] Implemented stochastic gradient descent (bonus)\n",
    "- [ ] Visualized predictions and loss for stochastic gradient descent (bonus)\n",
    "- [ ] Visualize the prediction result of Library version and custom version"
   ]
  }
 ],
 "metadata": {
  "kernelspec": {
   "display_name": ".venv",
   "language": "python",
   "name": "python3"
  },
  "language_info": {
   "codemirror_mode": {
    "name": "ipython",
    "version": 3
   },
   "file_extension": ".py",
   "mimetype": "text/x-python",
   "name": "python",
   "nbconvert_exporter": "python",
   "pygments_lexer": "ipython3",
   "version": "3.13.5"
  }
 },
 "nbformat": 4,
 "nbformat_minor": 5
}
